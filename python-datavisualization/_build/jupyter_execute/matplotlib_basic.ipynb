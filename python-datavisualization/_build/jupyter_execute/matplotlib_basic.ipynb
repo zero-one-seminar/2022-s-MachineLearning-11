{
 "cells": [
  {
   "cell_type": "markdown",
   "metadata": {},
   "source": [
    "# Matplotlib（基礎編）\n",
    "\n",
    "[![Open In Colab](https://colab.research.google.com/assets/colab-badge.svg)](https://colab.research.google.com/github/kentakom1213/practice-datavisualization/blob/main/matplotlib_basic.ipynb)\n",
    "\n",
    "まずは、[Chainerチュートリアル](https://tutorials.chainer.org/ja/12_Introduction_to_Matplotlib.html)通りプロット。\n",
    "簡単なグラフはこれで十分です。\n",
    "\n",
    "ここでは、numpyでデータを作成しつつプロットを行います。"
   ]
  },
  {
   "cell_type": "code",
   "execution_count": 1,
   "metadata": {},
   "outputs": [],
   "source": [
    "import numpy as np\n",
    "import matplotlib.pyplot as plt"
   ]
  },
  {
   "cell_type": "markdown",
   "metadata": {},
   "source": [
    "## numpyの使い方\n",
    "\n",
    "**一定区間に等間隔で散らばった点を生成**\n",
    "\n",
    "`np.arange(開始, 終了, 間隔)`"
   ]
  },
  {
   "cell_type": "code",
   "execution_count": 2,
   "metadata": {},
   "outputs": [
    {
     "data": {
      "text/plain": [
       "array([-1.00000000e+00, -9.00000000e-01, -8.00000000e-01, -7.00000000e-01,\n",
       "       -6.00000000e-01, -5.00000000e-01, -4.00000000e-01, -3.00000000e-01,\n",
       "       -2.00000000e-01, -1.00000000e-01, -2.22044605e-16,  1.00000000e-01,\n",
       "        2.00000000e-01,  3.00000000e-01,  4.00000000e-01,  5.00000000e-01,\n",
       "        6.00000000e-01,  7.00000000e-01,  8.00000000e-01,  9.00000000e-01])"
      ]
     },
     "execution_count": 2,
     "metadata": {},
     "output_type": "execute_result"
    }
   ],
   "source": [
    "x = np.arange(-1, 1, 0.1)  # -1から1まで、0.1刻みで点を生成する\n",
    "\n",
    "x"
   ]
  },
  {
   "cell_type": "markdown",
   "metadata": {},
   "source": [
    "**関数にわたす**\n",
    "\n",
    "`np.array`を関数に渡すと、その要素全てに同じ操作が加えられます。\n",
    "\n",
    "例）\n",
    "```python\n",
    "np.array([1, 2, 3]) ** 2\n",
    "\n",
    "# array([1, 4, 9])\n",
    "```\n",
    "\n",
    "その他、`numpy`で定義されている関数\n",
    "\n",
    "- `sin`\n",
    "- `cos`\n",
    "- `tan`\n",
    "- `log`\n",
    "- `exp`\n",
    "\n",
    "も使えます。"
   ]
  },
  {
   "cell_type": "code",
   "execution_count": 3,
   "metadata": {},
   "outputs": [
    {
     "data": {
      "text/plain": [
       "array([-8.41470985e-01, -7.83326910e-01, -7.17356091e-01, -6.44217687e-01,\n",
       "       -5.64642473e-01, -4.79425539e-01, -3.89418342e-01, -2.95520207e-01,\n",
       "       -1.98669331e-01, -9.98334166e-02, -2.22044605e-16,  9.98334166e-02,\n",
       "        1.98669331e-01,  2.95520207e-01,  3.89418342e-01,  4.79425539e-01,\n",
       "        5.64642473e-01,  6.44217687e-01,  7.17356091e-01,  7.83326910e-01])"
      ]
     },
     "execution_count": 3,
     "metadata": {},
     "output_type": "execute_result"
    }
   ],
   "source": [
    "y = np.sin(x)  # 生成した点をsin関数に渡す\n",
    "\n",
    "y"
   ]
  },
  {
   "cell_type": "markdown",
   "metadata": {},
   "source": [
    "## 散布図\n",
    "\n",
    "`plt.scatter(xの配列, yの配列)`\n",
    "\n",
    "平面状に点を打ちます。\n"
   ]
  },
  {
   "cell_type": "code",
   "execution_count": 4,
   "metadata": {},
   "outputs": [
    {
     "data": {
      "text/plain": [
       "<matplotlib.collections.PathCollection at 0x10832fe50>"
      ]
     },
     "execution_count": 4,
     "metadata": {},
     "output_type": "execute_result"
    },
    {
     "data": {
      "image/png": "[encoded data removed]",
      "text/plain": [
       "<Figure size 432x288 with 1 Axes>"
      ]
     },
     "metadata": {
      "filenames": {
       "image/png": "/Users/komotokenta/Docker/practice-datavisualization/python-datavisualization/_build/jupyter_execute/matplotlib_basic_7_1.png"
      },
      "needs_background": "light"
     },
     "output_type": "display_data"
    }
   ],
   "source": [
    "x = np.arange(-1, 1, 0.1)\n",
    "y = x ** 2\n",
    "\n",
    "plt.scatter(x, y)"
   ]
  },
  {
   "cell_type": "markdown",
   "metadata": {},
   "source": [
    "## 折れ線グラフ\n",
    "\n",
    "`plt.plot(xの配列, yの配列)`\n",
    "\n",
    "散布図と異なり、隣り合った点をつなげます。"
   ]
  },
  {
   "cell_type": "code",
   "execution_count": 5,
   "metadata": {},
   "outputs": [
    {
     "data": {
      "text/plain": [
       "[<matplotlib.lines.Line2D at 0x108472b00>]"
      ]
     },
     "execution_count": 5,
     "metadata": {},
     "output_type": "execute_result"
    },
    {
     "data": {
      "image/png": "[encoded data removed]",
      "text/plain": [
       "<Figure size 432x288 with 1 Axes>"
      ]
     },
     "metadata": {
      "filenames": {
       "image/png": "/Users/komotokenta/Docker/practice-datavisualization/python-datavisualization/_build/jupyter_execute/matplotlib_basic_9_1.png"
      },
      "needs_background": "light"
     },
     "output_type": "display_data"
    }
   ],
   "source": [
    "x = np.arange(-3, 3, 0.5)\n",
    "y = np.sin(x)\n",
    "\n",
    "plt.plot(x, y)"
   ]
  },
  {
   "cell_type": "markdown",
   "metadata": {},
   "source": [
    "## ヒストグラム\n",
    "\n",
    "**データの生成**\n",
    "\n",
    "$1〜6$ までの数字をランダムに $1000$ 回選んで平均を求めます。  \n",
    "これを $1000$ 回繰り返して、どんな分布になっているかをみてみます。"
   ]
  },
  {
   "cell_type": "code",
   "execution_count": 6,
   "metadata": {},
   "outputs": [
    {
     "name": "stdout",
     "output_type": "stream",
     "text": [
      "[3.517, 3.437, 3.424, 3.409, 3.569, 3.421, 3.517, 3.541, 3.386, 3.412]\n"
     ]
    }
   ],
   "source": [
    "from random import randint\n",
    "\n",
    "data = []\n",
    "\n",
    "for i in range(1000):\n",
    "\n",
    "    # 1~6までの数字をランダムに選んで足す x 1000回\n",
    "    sum_of_dice = 0\n",
    "    for j in range(1000):\n",
    "        sum_of_dice += randint(1, 6)\n",
    "    \n",
    "    ave_of_dice = sum_of_dice / 1000  # 1000で割って平均を出す\n",
    "    data.append(ave_of_dice)\n",
    "\n",
    "\n",
    "print(data[:10])  # 10個目までを見る"
   ]
  },
  {
   "cell_type": "markdown",
   "metadata": {},
   "source": [
    "**ヒストグラムを作成**\n",
    "\n",
    "`plt.hist(データ)`\n",
    "\n",
    "自動的に階級の幅を決めてプロットしてくれます。\n",
    "この場合は $10$ 個の階級に分けられていました。"
   ]
  },
  {
   "cell_type": "code",
   "execution_count": 7,
   "metadata": {},
   "outputs": [
    {
     "data": {
      "text/plain": [
       "(array([  5.,  16.,  55., 124., 215., 262., 178., 101.,  32.,  12.]),\n",
       " array([3.318 , 3.3524, 3.3868, 3.4212, 3.4556, 3.49  , 3.5244, 3.5588,\n",
       "        3.5932, 3.6276, 3.662 ]),\n",
       " <BarContainer object of 10 artists>)"
      ]
     },
     "execution_count": 7,
     "metadata": {},
     "output_type": "execute_result"
    },
    {
     "data": {
      "image/png": "[encoded data removed]",
      "text/plain": [
       "<Figure size 432x288 with 1 Axes>"
      ]
     },
     "metadata": {
      "filenames": {
       "image/png": "/Users/komotokenta/Docker/practice-datavisualization/python-datavisualization/_build/jupyter_execute/matplotlib_basic_13_1.png"
      },
      "needs_background": "light"
     },
     "output_type": "display_data"
    }
   ],
   "source": [
    "plt.hist(data)"
   ]
  },
  {
   "cell_type": "markdown",
   "metadata": {},
   "source": [
    "### パラメータの調整\n",
    "\n",
    "`hist`関数にオプションで `bins=100` を渡すと、階級を $100$ 個に分けることができます。"
   ]
  },
  {
   "cell_type": "code",
   "execution_count": 8,
   "metadata": {},
   "outputs": [
    {
     "data": {
      "text/plain": [
       "(array([ 1.,  0.,  0.,  0.,  0.,  1.,  1.,  0.,  1.,  1.,  2.,  0.,  0.,\n",
       "         2.,  0.,  2.,  0.,  4.,  2.,  4.,  4.,  2.,  3.,  3.,  9.,  8.,\n",
       "         5., 10.,  1., 10.,  4.,  9.,  7., 14., 10., 10., 16., 11., 27.,\n",
       "        16., 20., 22., 19., 28., 14., 27., 14., 29., 22., 20., 35., 22.,\n",
       "        25., 19., 32., 26., 24., 33., 17., 29., 15., 24., 16., 18., 15.,\n",
       "        18., 15., 20., 20., 17., 20., 12., 12.,  9.,  9.,  9., 10.,  7.,\n",
       "         6.,  7.,  4.,  6.,  2.,  5.,  1.,  5.,  2.,  1.,  3.,  3.,  1.,\n",
       "         3.,  2.,  1.,  0.,  1.,  1.,  0.,  2.,  1.]),\n",
       " array([3.318  , 3.32144, 3.32488, 3.32832, 3.33176, 3.3352 , 3.33864,\n",
       "        3.34208, 3.34552, 3.34896, 3.3524 , 3.35584, 3.35928, 3.36272,\n",
       "        3.36616, 3.3696 , 3.37304, 3.37648, 3.37992, 3.38336, 3.3868 ,\n",
       "        3.39024, 3.39368, 3.39712, 3.40056, 3.404  , 3.40744, 3.41088,\n",
       "        3.41432, 3.41776, 3.4212 , 3.42464, 3.42808, 3.43152, 3.43496,\n",
       "        3.4384 , 3.44184, 3.44528, 3.44872, 3.45216, 3.4556 , 3.45904,\n",
       "        3.46248, 3.46592, 3.46936, 3.4728 , 3.47624, 3.47968, 3.48312,\n",
       "        3.48656, 3.49   , 3.49344, 3.49688, 3.50032, 3.50376, 3.5072 ,\n",
       "        3.51064, 3.51408, 3.51752, 3.52096, 3.5244 , 3.52784, 3.53128,\n",
       "        3.53472, 3.53816, 3.5416 , 3.54504, 3.54848, 3.55192, 3.55536,\n",
       "        3.5588 , 3.56224, 3.56568, 3.56912, 3.57256, 3.576  , 3.57944,\n",
       "        3.58288, 3.58632, 3.58976, 3.5932 , 3.59664, 3.60008, 3.60352,\n",
       "        3.60696, 3.6104 , 3.61384, 3.61728, 3.62072, 3.62416, 3.6276 ,\n",
       "        3.63104, 3.63448, 3.63792, 3.64136, 3.6448 , 3.64824, 3.65168,\n",
       "        3.65512, 3.65856, 3.662  ]),\n",
       " <BarContainer object of 100 artists>)"
      ]
     },
     "execution_count": 8,
     "metadata": {},
     "output_type": "execute_result"
    },
    {
     "data": {
      "image/png": "[encoded data removed]",
      "text/plain": [
       "<Figure size 432x288 with 1 Axes>"
      ]
     },
     "metadata": {
      "filenames": {
       "image/png": "/Users/komotokenta/Docker/practice-datavisualization/python-datavisualization/_build/jupyter_execute/matplotlib_basic_15_1.png"
      },
      "needs_background": "light"
     },
     "output_type": "display_data"
    }
   ],
   "source": [
    "plt.hist(data, bins=100)"
   ]
  },
  {
   "cell_type": "markdown",
   "metadata": {},
   "source": [
    "```{tip}\n",
    "実は**中心極限定理**によって、この分布は正規分布に近づいていくらしいです。（よくわかってない）\n",
    "\n",
    "[中心極限定理 - 統計WEB](https://bellcurve.jp/statistics/course/8543.html)\n",
    "```"
   ]
  },
  {
   "cell_type": "markdown",
   "metadata": {},
   "source": [
    "## 箱ひげ図\n",
    "\n",
    "**データの生成**\n",
    "\n",
    "確率90%、60%、30%で表が出るコインを用意して、何回連続で表が出るかを調べます。  \n",
    "それぞれ1000回ずつ試行します。"
   ]
  },
  {
   "cell_type": "code",
   "execution_count": 9,
   "metadata": {},
   "outputs": [],
   "source": [
    "from random import randint"
   ]
  },
  {
   "cell_type": "code",
   "execution_count": 10,
   "metadata": {},
   "outputs": [
    {
     "name": "stdout",
     "output_type": "stream",
     "text": [
      "90%:  [5, 9, 17, 3, 11, 1, 12, 1, 7, 17, 10, 5, 0, 7, 7, 0, 24, 10, 1, 1]\n",
      "60%:  [3, 0, 0, 0, 1, 2, 8, 0, 4, 1, 2, 2, 1, 1, 1, 0, 0, 4, 2, 0]\n",
      "30%:  [0, 0, 0, 0, 1, 0, 0, 1, 0, 0, 1, 1, 0, 0, 0, 1, 0, 0, 0, 1]\n"
     ]
    }
   ],
   "source": [
    "prob_90 = []\n",
    "prob_60 = []\n",
    "prob_30 = []\n",
    "\n",
    "for i in range(1000):\n",
    "\n",
    "    # 90%が何回連続で出るか\n",
    "    count_90 = 0\n",
    "    while randint(1, 100) <= 90:\n",
    "        count_90 += 1\n",
    "    prob_90.append(count_90)\n",
    "\n",
    "    # 60%が何回連続で出るか\n",
    "    count_60 = 0\n",
    "    while randint(1, 100) <= 60:\n",
    "        count_60 += 1\n",
    "    prob_60.append(count_60)\n",
    "\n",
    "    # 30%が何回連続で出るか\n",
    "    count_30 = 0\n",
    "    while randint(1, 100) <= 30:\n",
    "        count_30 += 1\n",
    "    prob_30.append(count_30)\n",
    "\n",
    "print(\"90%: \", prob_90[:20])\n",
    "print(\"60%: \", prob_60[:20])\n",
    "print(\"30%: \", prob_30[:20])"
   ]
  },
  {
   "cell_type": "code",
   "execution_count": 11,
   "metadata": {},
   "outputs": [
    {
     "data": {
      "text/plain": [
       "{'whiskers': [<matplotlib.lines.Line2D at 0x10a39fa90>,\n",
       "  <matplotlib.lines.Line2D at 0x10a39fd60>,\n",
       "  <matplotlib.lines.Line2D at 0x10a3c0eb0>,\n",
       "  <matplotlib.lines.Line2D at 0x10a3c1180>,\n",
       "  <matplotlib.lines.Line2D at 0x10a3c2260>,\n",
       "  <matplotlib.lines.Line2D at 0x10a3c2530>],\n",
       " 'caps': [<matplotlib.lines.Line2D at 0x10a3c00a0>,\n",
       "  <matplotlib.lines.Line2D at 0x10a3c0370>,\n",
       "  <matplotlib.lines.Line2D at 0x10a3c1450>,\n",
       "  <matplotlib.lines.Line2D at 0x10a3c1720>,\n",
       "  <matplotlib.lines.Line2D at 0x10a3c2800>,\n",
       "  <matplotlib.lines.Line2D at 0x10a3c2ad0>],\n",
       " 'boxes': [<matplotlib.lines.Line2D at 0x10a39f760>,\n",
       "  <matplotlib.lines.Line2D at 0x10a3c0be0>,\n",
       "  <matplotlib.lines.Line2D at 0x10a3c1f90>],\n",
       " 'medians': [<matplotlib.lines.Line2D at 0x10a3c0640>,\n",
       "  <matplotlib.lines.Line2D at 0x10a3c19f0>,\n",
       "  <matplotlib.lines.Line2D at 0x10a3c2da0>],\n",
       " 'fliers': [<matplotlib.lines.Line2D at 0x10a3c0910>,\n",
       "  <matplotlib.lines.Line2D at 0x10a3c1cc0>,\n",
       "  <matplotlib.lines.Line2D at 0x10a3c3070>],\n",
       " 'means': []}"
      ]
     },
     "execution_count": 11,
     "metadata": {},
     "output_type": "execute_result"
    },
    {
     "data": {
      "image/png": "[encoded data removed]",
      "text/plain": [
       "<Figure size 432x288 with 1 Axes>"
      ]
     },
     "metadata": {
      "filenames": {
       "image/png": "/Users/komotokenta/Docker/practice-datavisualization/python-datavisualization/_build/jupyter_execute/matplotlib_basic_20_1.png"
      },
      "needs_background": "light"
     },
     "output_type": "display_data"
    }
   ],
   "source": [
    "plt.boxplot((prob_90, prob_60, prob_30))"
   ]
  },
  {
   "cell_type": "markdown",
   "metadata": {},
   "source": [
    "90%だと70回以上出ることもあるのに対して、\n",
    "30%だと10回以上連続で出ることはほとんどないですね。"
   ]
  },
  {
   "cell_type": "markdown",
   "metadata": {},
   "source": [
    "## 参考\n",
    "- [Chainerチュートリアル](https://tutorials.chainer.org/ja/12_Introduction_to_Matplotlib.html)"
   ]
  }
 ],
 "metadata": {
  "kernelspec": {
   "display_name": "Python 3.10.2 ('.practice-datavisualization': venv)",
   "language": "python",
   "name": "python3"
  },
  "language_info": {
   "codemirror_mode": {
    "name": "ipython",
    "version": 3
   },
   "file_extension": ".py",
   "mimetype": "text/x-python",
   "name": "python",
   "nbconvert_exporter": "python",
   "pygments_lexer": "ipython3",
   "version": "3.10.2"
  },
  "vscode": {
   "interpreter": {
    "hash": "78d97a615b7eb856cc59c7df976d665ea878e9e1475b11b30e580e0add64b80f"
   }
  }
 },
 "nbformat": 4,
 "nbformat_minor": 2
}